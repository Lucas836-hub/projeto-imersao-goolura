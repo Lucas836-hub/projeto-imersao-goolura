{
  "nbformat": 4,
  "nbformat_minor": 0,
  "metadata": {
    "colab": {
      "provenance": [],
      "authorship_tag": "ABX9TyODNcnD5WF4Q4eS+ke4/6O+",
      "include_colab_link": true
    },
    "kernelspec": {
      "name": "python3",
      "display_name": "Python 3"
    },
    "language_info": {
      "name": "python"
    }
  },
  "cells": [
    {
      "cell_type": "markdown",
      "metadata": {
        "id": "view-in-github",
        "colab_type": "text"
      },
      "source": [
        "<a href=\"https://colab.research.google.com/github/Lucas836-hub/projeto-imersao-goolura/blob/main/Untitled0.ipynb\" target=\"_parent\"><img src=\"https://colab.research.google.com/assets/colab-badge.svg\" alt=\"Open In Colab\"/></a>"
      ]
    },
    {
      "cell_type": "code",
      "execution_count": 6,
      "metadata": {
        "id": "x7Tz1An2vDRu"
      },
      "outputs": [],
      "source": []
    },
    {
      "cell_type": "code",
      "source": [
        "!pip install -q -U google-generativeai\n",
        "\n",
        "import google.generativeai as genai\n",
        "from google.colab import userdata\n",
        "api_key = userdata.get(\"secret_key\")\n",
        "genai.configure(api_key=api_key)\n",
        "\n",
        "## Configuração da geração\n",
        "generation_config = {\n",
        "    \"candidate_count\": 1,\n",
        "    \"temperature\": 0.5\n",
        "}\n",
        "\n",
        "safety_settings = {\n",
        "    \"HARASSMENT\": \"BLOCK_NONE\",\n",
        "    \"HATE\": \"BLOCK_NONE\",\n",
        "    \"SEXUAL\": \"BLOCK_NONE\",\n",
        "    \"DANGEROUS\": \"BLOCK_NONE\"\n",
        "}\n",
        "\n",
        "## Inicialização do modelo\n",
        "model = genai.GenerativeModel(model_name= \"gemini-1.0-pro\",generation_config=generation_config,safety_settings=safety_settings)\n",
        "\n",
        "## Geração de conteúdo\n",
        "print(\"UTILITÁRIO\".center(50))\n",
        "print(\"Este é um chat integrado como o gemini e será usado como multi uso exemplos : ideias , auxiliar em codigos , idiomas , tradutor enfim o que sua imaginação permitir\")\n",
        "\n",
        "## Inicialização do chat\n",
        "chat = model.start_chat(history=[])\n",
        "\n",
        "## Interação com o chatbot\n",
        "while prompt != \"fim\":\n",
        "  prompt = input(\"Oque você quer fazer ? : \")\n",
        "  response = chat.send_message(prompt)\n",
        "  print(\"Resposta: \", response.text, \"\\n\")\n",
        "\n",
        "# infelizmente não tiver tempo esta semana e este é o melhor que consegui fazer faltando 6 horas para terminar agora falta 3 horas\n",
        ""
      ],
      "metadata": {
        "id": "6ZU5zQ-K0ktK"
      },
      "execution_count": null,
      "outputs": []
    }
  ]
}